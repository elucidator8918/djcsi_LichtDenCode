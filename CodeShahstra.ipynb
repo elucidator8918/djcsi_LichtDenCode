{
 "cells": [
  {
   "cell_type": "markdown",
   "id": "0eee9559",
   "metadata": {},
   "source": [
    "### Deepfake Detection"
   ]
  },
  {
   "cell_type": "code",
   "execution_count": 1,
   "id": "cfca8694",
   "metadata": {},
   "outputs": [
    {
     "name": "stderr",
     "output_type": "stream",
     "text": [
      "2023-04-09 00:44:01.754982: W tensorflow/compiler/xla/stream_executor/platform/default/dso_loader.cc:64] Could not load dynamic library 'libcudart.so.11.0'; dlerror: libcudart.so.11.0: cannot open shared object file: No such file or directory\n",
      "2023-04-09 00:44:01.755011: I tensorflow/compiler/xla/stream_executor/cuda/cudart_stub.cc:29] Ignore above cudart dlerror if you do not have a GPU set up on your machine.\n",
      "2023-04-09 00:44:02.684630: W tensorflow/compiler/xla/stream_executor/platform/default/dso_loader.cc:64] Could not load dynamic library 'libnvinfer.so.7'; dlerror: libnvinfer.so.7: cannot open shared object file: No such file or directory\n",
      "2023-04-09 00:44:02.684723: W tensorflow/compiler/xla/stream_executor/platform/default/dso_loader.cc:64] Could not load dynamic library 'libnvinfer_plugin.so.7'; dlerror: libnvinfer_plugin.so.7: cannot open shared object file: No such file or directory\n",
      "2023-04-09 00:44:02.684744: W tensorflow/compiler/tf2tensorrt/utils/py_utils.cc:38] TF-TRT Warning: Cannot dlopen some TensorRT libraries. If you would like to use Nvidia GPU with TensorRT, please make sure the missing libraries mentioned above are installed properly.\n"
     ]
    }
   ],
   "source": [
    "from keras.models import Model as KerasModel\n",
    "from keras.layers import Input, Dense, Flatten, Conv2D, MaxPooling2D, BatchNormalization, Dropout, Reshape, Concatenate, LeakyReLU\n",
    "from keras.optimizers import Adam\n",
    "from keras.preprocessing.image import ImageDataGenerator\n",
    "IMGWIDTH = 256\n",
    "\n",
    "class Classifier:\n",
    "    def __init__():\n",
    "        self.model = 0\n",
    "    \n",
    "    def predict(self, x):\n",
    "        return self.model.predict(x)\n",
    "    \n",
    "    def fit(self, x, y):\n",
    "        return self.model.train_on_batch(x, y)\n",
    "    \n",
    "    def get_accuracy(self, x, y):\n",
    "        return self.model.test_on_batch(x, y)\n",
    "    \n",
    "    def load(self, path):\n",
    "        self.model.load_weights(path)\n",
    "\n",
    "class Meso4(Classifier):\n",
    "    def __init__(self, learning_rate = 0.001):\n",
    "        self.model = self.init_model()\n",
    "        optimizer = Adam(lr = learning_rate)\n",
    "        self.model.compile(optimizer = optimizer, loss = 'mean_squared_error', metrics = ['accuracy'])\n",
    "    \n",
    "    def init_model(self): \n",
    "        x = Input(shape = (IMGWIDTH, IMGWIDTH, 3))\n",
    "        \n",
    "        x1 = Conv2D(8, (3, 3), padding='same', activation = 'relu')(x)\n",
    "        x1 = BatchNormalization()(x1)\n",
    "        x1 = MaxPooling2D(pool_size=(2, 2), padding='same')(x1)\n",
    "        \n",
    "        x2 = Conv2D(8, (5, 5), padding='same', activation = 'relu')(x1)\n",
    "        x2 = BatchNormalization()(x2)\n",
    "        x2 = MaxPooling2D(pool_size=(2, 2), padding='same')(x2)\n",
    "        \n",
    "        x3 = Conv2D(16, (5, 5), padding='same', activation = 'relu')(x2)\n",
    "        x3 = BatchNormalization()(x3)\n",
    "        x3 = MaxPooling2D(pool_size=(2, 2), padding='same')(x3)\n",
    "        \n",
    "        x4 = Conv2D(16, (5, 5), padding='same', activation = 'relu')(x3)\n",
    "        x4 = BatchNormalization()(x4)\n",
    "        x4 = MaxPooling2D(pool_size=(4, 4), padding='same')(x4)\n",
    "        \n",
    "        y = Flatten()(x4)\n",
    "        y = Dropout(0.5)(y)\n",
    "        y = Dense(16)(y)\n",
    "        y = LeakyReLU(alpha=0.1)(y)\n",
    "        y = Dropout(0.5)(y)\n",
    "        y = Dense(1, activation = 'sigmoid')(y)\n",
    "\n",
    "        return KerasModel(inputs = x, outputs = y)"
   ]
  },
  {
   "cell_type": "code",
   "execution_count": 3,
   "id": "c132a424",
   "metadata": {},
   "outputs": [
    {
     "name": "stderr",
     "output_type": "stream",
     "text": [
      "2023-04-09 00:44:04.006543: W tensorflow/compiler/xla/stream_executor/platform/default/dso_loader.cc:64] Could not load dynamic library 'libcuda.so.1'; dlerror: libcuda.so.1: cannot open shared object file: No such file or directory\n",
      "2023-04-09 00:44:04.006577: W tensorflow/compiler/xla/stream_executor/cuda/cuda_driver.cc:265] failed call to cuInit: UNKNOWN ERROR (303)\n",
      "2023-04-09 00:44:04.006604: I tensorflow/compiler/xla/stream_executor/cuda/cuda_diagnostics.cc:156] kernel driver does not appear to be running on this host (dell): /proc/driver/nvidia/version does not exist\n",
      "/home/siddhant/anaconda3/lib/python3.9/site-packages/keras/optimizers/optimizer_v2/adam.py:117: UserWarning: The `lr` argument is deprecated, use `learning_rate` instead.\n",
      "  super().__init__(name, **kwargs)\n"
     ]
    },
    {
     "name": "stdout",
     "output_type": "stream",
     "text": [
      "Found 3 images belonging to 1 classes.\n"
     ]
    }
   ],
   "source": [
    "MesoNet_classifier = Meso4()\n",
    "MesoNet_classifier.load(\"Meso4_DF.h5\")\n",
    "image_data_generator = ImageDataGenerator(rescale=1.0 / 255)\n",
    "data_generator = image_data_generator.flow_from_directory(\n",
    "    \"\", classes=[\"mesonet_test_images\"]\n",
    ")\n",
    "num_to_label = {1: \"real\", 0: \"fake\"}"
   ]
  },
  {
   "cell_type": "code",
   "execution_count": 4,
   "id": "4abe3a20",
   "metadata": {},
   "outputs": [
    {
     "name": "stdout",
     "output_type": "stream",
     "text": [
      "1/1 [==============================] - 0s 231ms/step\n",
      "['real', 'fake', 'fake']\n"
     ]
    }
   ],
   "source": [
    "X, y = data_generator.next()\n",
    "probabilistic_predictions = MesoNet_classifier.predict(X)\n",
    "predictions = [num_to_label[round(x[0])] for x in probabilistic_predictions]\n",
    "print(predictions)"
   ]
  },
  {
   "cell_type": "code",
   "execution_count": 8,
   "id": "a5be52a2",
   "metadata": {},
   "outputs": [
    {
     "name": "stdout",
     "output_type": "stream",
     "text": [
      "Found 4 images belonging to 1 classes.\n",
      "WARNING:tensorflow:5 out of the last 5 calls to <function Model.make_predict_function.<locals>.predict_function at 0x7f8d48693ee0> triggered tf.function retracing. Tracing is expensive and the excessive number of tracings could be due to (1) creating @tf.function repeatedly in a loop, (2) passing tensors with different shapes, (3) passing Python objects instead of tensors. For (1), please define your @tf.function outside of the loop. For (2), @tf.function has reduce_retracing=True option that can avoid unnecessary retracing. For (3), please refer to https://www.tensorflow.org/guide/function#controlling_retracing and https://www.tensorflow.org/api_docs/python/tf/function for  more details.\n",
      "1/1 [==============================] - 0s 149ms/step\n",
      "['real', 'fake', 'fake', 'real']\n"
     ]
    }
   ],
   "source": [
    "MesoNet_classifier = Meso4()\n",
    "MesoNet_classifier.load(\"Meso4_DF.h5\")\n",
    "image_data_generator = ImageDataGenerator(rescale=1.0 / 255)\n",
    "data_generator = image_data_generator.flow_from_directory(\n",
    "    \"\", classes=[\"mesonet_test_images\"]\n",
    ")\n",
    "num_to_label = {0: \"real\", 1: \"fake\"}\n",
    "X, y = data_generator.next()\n",
    "probabilistic_predictions = MesoNet_classifier.predict(X)\n",
    "predictions = [num_to_label[round(x[0])] for x in probabilistic_predictions]\n",
    "print(predictions)"
   ]
  },
  {
   "cell_type": "markdown",
   "id": "a264c243",
   "metadata": {},
   "source": [
    "### Deepfake recognition pipeline"
   ]
  },
  {
   "cell_type": "code",
   "execution_count": 23,
   "id": "a41e4c5e",
   "metadata": {},
   "outputs": [],
   "source": [
    "from keras.models import Model as KerasModel\n",
    "from keras.layers import Input, Dense, Flatten, Conv2D, MaxPooling2D, BatchNormalization, Dropout, Reshape, Concatenate, LeakyReLU\n",
    "from keras.optimizers import Adam\n",
    "from keras.preprocessing.image import ImageDataGenerator\n",
    "import base64\n",
    "from io import BytesIO\n",
    "from PIL import Image\n",
    "import numpy as np\n",
    "\n",
    "def deepfake(data):    \n",
    "    IMGWIDTH = 256\n",
    "\n",
    "    class Classifier:\n",
    "        def __init__():\n",
    "            self.model = 0\n",
    "\n",
    "        def predict(self, x):\n",
    "            return self.model.predict(x)\n",
    "\n",
    "        def fit(self, x, y):\n",
    "            return self.model.train_on_batch(x, y)\n",
    "\n",
    "        def get_accuracy(self, x, y):\n",
    "            return self.model.test_on_batch(x, y)\n",
    "\n",
    "        def load(self, path):\n",
    "            self.model.load_weights(path)\n",
    "\n",
    "    class Meso4(Classifier):\n",
    "        def __init__(self, learning_rate = 0.001):\n",
    "            self.model = self.init_model()\n",
    "            optimizer = Adam(lr = learning_rate)\n",
    "            self.model.compile(optimizer = optimizer, loss = 'mean_squared_error', metrics = ['accuracy'])\n",
    "\n",
    "        def init_model(self): \n",
    "            x = Input(shape = (IMGWIDTH, IMGWIDTH, 3))\n",
    "\n",
    "            x1 = Conv2D(8, (3, 3), padding='same', activation = 'relu')(x)\n",
    "            x1 = BatchNormalization()(x1)\n",
    "            x1 = MaxPooling2D(pool_size=(2, 2), padding='same')(x1)\n",
    "\n",
    "            x2 = Conv2D(8, (5, 5), padding='same', activation = 'relu')(x1)\n",
    "            x2 = BatchNormalization()(x2)\n",
    "            x2 = MaxPooling2D(pool_size=(2, 2), padding='same')(x2)\n",
    "\n",
    "            x3 = Conv2D(16, (5, 5), padding='same', activation = 'relu')(x2)\n",
    "            x3 = BatchNormalization()(x3)\n",
    "            x3 = MaxPooling2D(pool_size=(2, 2), padding='same')(x3)\n",
    "\n",
    "            x4 = Conv2D(16, (5, 5), padding='same', activation = 'relu')(x3)\n",
    "            x4 = BatchNormalization()(x4)\n",
    "            x4 = MaxPooling2D(pool_size=(4, 4), padding='same')(x4)\n",
    "\n",
    "            y = Flatten()(x4)\n",
    "            y = Dropout(0.5)(y)\n",
    "            y = Dense(16)(y)\n",
    "            y = LeakyReLU(alpha=0.1)(y)\n",
    "            y = Dropout(0.5)(y)\n",
    "            y = Dense(1, activation = 'sigmoid')(y)\n",
    "\n",
    "            return KerasModel(inputs = x, outputs = y)\n",
    "        \n",
    "    MesoNet_classifier = Meso4()\n",
    "    MesoNet_classifier.load(\"Meso4_DF.h5\")    \n",
    "    base64_data=data\n",
    "    # decode base64 data and convert it to a Numpy array\n",
    "    image_data = base64.b64decode(base64_data)\n",
    "    image = Image.open(BytesIO(image_data)).convert(\"RGB\")        \n",
    "    image_array = np.array(image.resize((256, 256))) / 255.0  # normalize pixel values\n",
    "    \n",
    "    # make a prediction using the loaded model\n",
    "    prediction = MesoNet_classifier.predict(np.array([image_array]))    \n",
    "    return \"real\" if round(prediction[0][0]) == 1 else \"fake\""
   ]
  },
  {
   "cell_type": "code",
   "execution_count": null,
   "id": "99913692",
   "metadata": {},
   "outputs": [],
   "source": [
    "deepfake()"
   ]
  },
  {
   "cell_type": "code",
   "execution_count": 50,
   "id": "bb5b181f",
   "metadata": {},
   "outputs": [],
   "source": [
    "MesoNet_classifier = Meso4()\n",
    "MesoNet_classifier.load(\"Meso4_DF.h5\")\n",
    "\n",
    "# example base64-encoded image data\n",
    "base64_data = \"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\"\n",
    "\n",
    "image_data = base64.b64decode(base64_data)\n",
    "image = Image.open(BytesIO(image_data)).convert(\"RGB\")    \n",
    "image_array = np.array(image.resize((256, 256))) / 255.0  # normalize pixel values"
   ]
  },
  {
   "cell_type": "markdown",
   "id": "be7b6028",
   "metadata": {},
   "source": [
    "### Deepface pipeline"
   ]
  },
  {
   "cell_type": "code",
   "execution_count": 52,
   "id": "138f0cbe",
   "metadata": {},
   "outputs": [],
   "source": [
    "from deepface import DeepFace\n",
    "def deepface(data):    ##data is list of images\n",
    "    images=[]\n",
    "    for i in data:        \n",
    "        image_array = np.array(Image.open(BytesIO(base64.b64decode(base64_data))).convert(\"RGB\").resize((256, 256))) / 255.0  # normalize pixel values\n",
    "        images.append(image_array)\n",
    "    same_person = True    \n",
    "    for i in range(len(images)):\n",
    "        for j in range(i+1, len(images)):\n",
    "            result = DeepFace.verify(images[i], images[j],enforce_detection=False)\n",
    "            if not result[\"verified\"]:\n",
    "                same_person = False\n",
    "                break\n",
    "    # Check if faces belong to same person\n",
    "    if same_person:\n",
    "        return True\n",
    "    else:\n",
    "        return False"
   ]
  },
  {
   "cell_type": "code",
   "execution_count": 53,
   "id": "baf69dd6",
   "metadata": {},
   "outputs": [
    {
     "data": {
      "text/plain": [
       "True"
      ]
     },
     "execution_count": 53,
     "metadata": {},
     "output_type": "execute_result"
    }
   ],
   "source": [
    "deepface([base64_data,base64_data])"
   ]
  },
  {
   "cell_type": "markdown",
   "id": "b7c7ac69",
   "metadata": {},
   "source": [
    "### JS Obfuscated"
   ]
  },
  {
   "cell_type": "code",
   "execution_count": null,
   "id": "4720ec83",
   "metadata": {},
   "outputs": [],
   "source": []
  },
  {
   "cell_type": "markdown",
   "id": "85c76d23",
   "metadata": {},
   "source": [
    "### Phising Domain Detection"
   ]
  },
  {
   "cell_type": "code",
   "execution_count": 49,
   "id": "aa2db609",
   "metadata": {},
   "outputs": [],
   "source": [
    "import pandas as pd\n",
    "import numpy as np\n",
    "import matplotlib.pyplot as plt\n",
    "import seaborn as sns\n",
    "from scipy import stats\n",
    "from statsmodels.stats.outliers_influence import variance_inflation_factor\n",
    "from autoviz.classify_method import data_cleaning_suggestions ,data_suggestions\n",
    "from pycaret import regression\n",
    "from sklearn.model_selection import cross_val_score\n",
    "from sklearn.preprocessing import LabelEncoder\n",
    "from transformers import BertModel, BertTokenizer\n",
    "import torch\n",
    "import joblib\n",
    "from sklearn.linear_model import LogisticRegression\n",
    "\n",
    "def phishpipe(url):    \n",
    "    # Load the pre-trained BERT model and tokenizer\n",
    "    model = BertModel.from_pretrained('bert-base-uncased', output_hidden_states=True)\n",
    "    tokenizertokenizer = BertTokenizer.from_pretrained('bert-base-uncased')    \n",
    "    # Define a function to extract features for each transaction\n",
    "    def extract_features(text):\n",
    "        # Tokenize the text\n",
    "        input_ids = torch.tensor([tokenizer.encode(text, add_special_tokens=True)])\n",
    "        # Get the hidden states for each token\n",
    "        with torch.no_grad():\n",
    "            outputs = model(input_ids)\n",
    "            hidden_states = outputs[2]\n",
    "        # Concatenate the last 4 hidden states\n",
    "        token_vecs = []\n",
    "        for layer in range(-4, 0):\n",
    "            token_vecs.append(hidden_states[layer][0])\n",
    "        # Calculate the mean of the last 4 hidden states\n",
    "        features = []\n",
    "        for token in token_vecs:\n",
    "            features.append(torch.mean(token, dim=0))\n",
    "        # Return the features as a tensor\n",
    "        return torch.stack(features)\n",
    "    # Extract features for each transaction\n",
    "    features = []\n",
    "    features.append(extract_features(url))    \n",
    "    # Concatenate the features and convert to a numpy array\n",
    "    features = torch.cat(features).numpy()    \n",
    "    features_reshaped = features.reshape((1,-1))\n",
    "    # concatenate the feature array with the label array horizontally    \n",
    "    logmod=joblib.load(\"LOGMODFINAL\")\n",
    "    fu=int(logmod.predict(features_reshaped))\n",
    "    if fu==0:\n",
    "        return \"Benign/Good\"\n",
    "    elif fu==1:\n",
    "        return \"Defacement/Breaking Frontend\"\n",
    "    elif fu==2:\n",
    "        return \"Malware/Bad thing\"\n",
    "    else:\n",
    "        return \"Phishing/Fraud\""
   ]
  },
  {
   "cell_type": "code",
   "execution_count": null,
   "id": "f9be7e2a",
   "metadata": {},
   "outputs": [],
   "source": []
  }
 ],
 "metadata": {
  "kernelspec": {
   "display_name": "Python 3 (ipykernel)",
   "language": "python",
   "name": "python3"
  },
  "language_info": {
   "codemirror_mode": {
    "name": "ipython",
    "version": 3
   },
   "file_extension": ".py",
   "mimetype": "text/x-python",
   "name": "python",
   "nbconvert_exporter": "python",
   "pygments_lexer": "ipython3",
   "version": "3.9.12"
  }
 },
 "nbformat": 4,
 "nbformat_minor": 5
}
